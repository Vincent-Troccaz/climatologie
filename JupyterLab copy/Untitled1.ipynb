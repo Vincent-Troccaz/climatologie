{
 "cells": [
  {
   "cell_type": "code",
   "execution_count": 1,
   "id": "6e713a77-6caa-498a-b862-ecdcea8dbaeb",
   "metadata": {},
   "outputs": [
    {
     "ename": "NameError",
     "evalue": "name 'df' is not defined",
     "output_type": "error",
     "traceback": [
      "\u001b[1;31m---------------------------------------------------------------------------\u001b[0m",
      "\u001b[1;31mNameError\u001b[0m                                 Traceback (most recent call last)",
      "Cell \u001b[1;32mIn[1], line 13\u001b[0m\n\u001b[0;32m     10\u001b[0m gdf \u001b[38;5;241m=\u001b[39m gpd\u001b[38;5;241m.\u001b[39mread_file(chemin_shapefile)\n\u001b[0;32m     12\u001b[0m \u001b[38;5;66;03m# Vérifiez la correspondance des colonnes\u001b[39;00m\n\u001b[1;32m---> 13\u001b[0m df[\u001b[38;5;124m'\u001b[39m\u001b[38;5;124mLibelle\u001b[39m\u001b[38;5;124m'\u001b[39m] \u001b[38;5;241m=\u001b[39m df[\u001b[38;5;124m'\u001b[39m\u001b[38;5;124mLibelle\u001b[39m\u001b[38;5;124m'\u001b[39m]\u001b[38;5;241m.\u001b[39mstr\u001b[38;5;241m.\u001b[39mstrip()\n\u001b[0;32m     14\u001b[0m gdf[\u001b[38;5;124m'\u001b[39m\u001b[38;5;124mnom\u001b[39m\u001b[38;5;124m'\u001b[39m] \u001b[38;5;241m=\u001b[39m gdf[\u001b[38;5;124m'\u001b[39m\u001b[38;5;124mnom\u001b[39m\u001b[38;5;124m'\u001b[39m]\u001b[38;5;241m.\u001b[39mstr\u001b[38;5;241m.\u001b[39mstrip()\n\u001b[0;32m     16\u001b[0m \u001b[38;5;66;03m# Joindre les données au GeoDataFrame\u001b[39;00m\n",
      "\u001b[1;31mNameError\u001b[0m: name 'df' is not defined"
     ]
    }
   ],
   "source": [
    "import geopandas as gpd\n",
    "import folium\n",
    "import pandas as pd\n",
    "import json\n",
    "from folium.plugins import TimeSliderChoropleth\n",
    "import branca\n",
    "\n",
    "# Charger le shapefile avec GeoPandas\n",
    "chemin_shapefile = \"Alpes_WGS84/Alpes.shp\"\n",
    "gdf = gpd.read_file(chemin_shapefile)\n",
    "\n",
    "# Vérifiez la correspondance des colonnes\n",
    "df['Libelle'] = df['Libelle'].str.strip()\n",
    "gdf['nom'] = gdf['nom'].str.strip()\n",
    "\n",
    "# Joindre les données au GeoDataFrame\n",
    "gdf = gdf.merge(df, left_on='nom', right_on='Libelle', how='inner')\n",
    "\n",
    "# Centrer la carte sur les Alpes\n",
    "centre_lat, centre_lon = 45.8, 6.5\n",
    "carte = folium.Map(location=[centre_lat, centre_lon], zoom_start=9)\n",
    "\n",
    "# Créer une échelle de couleurs pour l'épaisseur de neige\n",
    "colormap = branca.colormap.linear.YlGnBu_09.scale(df['SNDAV'].min(), df['SNDAV'].max())\n",
    "\n",
    "# Ajouter les massifs filtrés pour une altitude donnée\n",
    "altitude_cible = 1200  # Altitude cible (modifiable)\n",
    "gdf_altitude = gdf[gdf['Altitude'] == altitude_cible]\n",
    "\n",
    "for _, row in gdf_altitude.iterrows():\n",
    "    nom_massif = row['nom']\n",
    "    epaisseur_neige = row['SNDAV']  # Récupérer l'épaisseur de neige\n",
    "    fill_color = colormap(epaisseur_neige)  # Couleur basée sur l'épaisseur\n",
    "\n",
    "    # Ajouter le GeoJson\n",
    "    folium.GeoJson(\n",
    "        row['geometry'],  # Géométrie du massif\n",
    "        name=f\"{nom_massif} (Altitude {altitude_cible} m)\",  # Nom de la couche\n",
    "        style_function=lambda x, color=fill_color: {\n",
    "            \"fillColor\": color,  # Couleur dynamique\n",
    "            \"color\": \"black\",    # Couleur des contours\n",
    "            \"weight\": 2,         # Épaisseur des contours\n",
    "            \"fillOpacity\": 0.6   # Transparence\n",
    "        },\n",
    "        tooltip=folium.Tooltip(f\"Massif : {nom_massif}<br>Épaisseur : {epaisseur_neige} cm\"),  # Info-bulle\n",
    "        show=True  # Affichage initial\n",
    "    ).add_to(carte)\n",
    "\n",
    "# Ajouter une légende\n",
    "colormap.caption = \"Épaisseur de neige (cm)\"\n",
    "colormap.add_to(carte)\n",
    "\n",
    "# Ajouter un contrôle de couches\n",
    "folium.LayerControl().add_to(carte)\n",
    "\n",
    "# Sauvegarder la carte\n",
    "carte.save(\"carte_epaisseur_neige_altitude.html\")\n"
   ]
  }
 ],
 "metadata": {
  "kernelspec": {
   "display_name": "Python 3 (ipykernel)",
   "language": "python",
   "name": "python3"
  },
  "language_info": {
   "codemirror_mode": {
    "name": "ipython",
    "version": 3
   },
   "file_extension": ".py",
   "mimetype": "text/x-python",
   "name": "python",
   "nbconvert_exporter": "python",
   "pygments_lexer": "ipython3",
   "version": "3.11.11"
  }
 },
 "nbformat": 4,
 "nbformat_minor": 5
}
